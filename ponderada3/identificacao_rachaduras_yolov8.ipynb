{
 "cells": [
  {
   "attachments": {},
   "cell_type": "markdown",
   "metadata": {},
   "source": [
    "# Identificação de rachaduras utilizando o modelo Yolo v8\n",
    "\n",
    "### Autor: Luiz Fernando da Silva Borges\n"
   ]
  },
  {
   "attachments": {},
   "cell_type": "markdown",
   "metadata": {},
   "source": [
    "## 1. Yolo v8\n",
    "\n",
    "O YOLOv8, ou You Only Look Once versão 8, é um algoritmo avançado de detecção de objetos. Ele é um aprimoramento dos modelos YOLO que tiveram sua arquitetura Darknet modificada, expandindo seus recursos. O YOLOv8 incorpora técnicas como treinamento em multi-escalas e aprimoramento de dados para melhorar sua precisão e gerenciar oclusões. Seu objetivo é encontrar um equilíbrio entre precisão e velocidade, tornando-o adequado para tarefas de detecção de objetos em tempo real. O YOLOv8 é amplamente utilizado em pesquisas e aplicações de visão computacional devido ao seu desempenho competitivo e tempos de inferência rápidos."
   ]
  },
  {
   "attachments": {},
   "cell_type": "markdown",
   "metadata": {},
   "source": [
    "## 2. Dataset\n",
    "\n"
   ]
  },
  {
   "attachments": {},
   "cell_type": "markdown",
   "metadata": {},
   "source": [
    "Para o retreinamento do modelo Yolo v8 foi utilizado um banco de imagens com rachaduras em paredes de concreto. O dataset foi disponibilizado pela Roboflow e pode ser encontrado [aqui](https://universe.roboflow.com/university-bswxt/crack-bphdr/dataset/2). O dataset contém 4100 imagens de rachaduras em paredes de contreto já anotadas no formato Yolo."
   ]
  },
  {
   "attachments": {},
   "cell_type": "markdown",
   "metadata": {},
   "source": [
    "## 3. Retreinamento do modelo\n",
    "\n",
    "A fim de tornarmos o modelo Yolo v8 capaz de reconhecer rachaduras, foi necessário retreiná-lo com o dataset disponibilizado pela Roboflow. Para isso, foi utilizado o código disponibilizado pelo repositório [ultralytics/yolov5]"
   ]
  },
  {
   "cell_type": "code",
   "execution_count": 1,
   "metadata": {},
   "outputs": [
    {
     "name": "stdout",
     "output_type": "stream",
     "text": [
      "Defaulting to user installation because normal site-packages is not writeable\n",
      "Requirement already satisfied: ultralytics in /home/pi/.local/lib/python3.10/site-packages (8.0.109)\n",
      "Requirement already satisfied: torchvision>=0.8.1 in /home/pi/.local/lib/python3.10/site-packages (from ultralytics) (0.15.2)\n",
      "Requirement already satisfied: PyYAML>=5.3.1 in /usr/lib/python3/dist-packages (from ultralytics) (5.4.1)\n",
      "Requirement already satisfied: Pillow>=7.1.2 in /usr/lib/python3/dist-packages (from ultralytics) (9.0.1)\n",
      "Requirement already satisfied: tqdm>=4.64.0 in /home/pi/.local/lib/python3.10/site-packages (from ultralytics) (4.65.0)\n",
      "Requirement already satisfied: opencv-python>=4.6.0 in /home/pi/.local/lib/python3.10/site-packages (from ultralytics) (4.7.0.72)\n",
      "Requirement already satisfied: pandas>=1.1.4 in /home/pi/.local/lib/python3.10/site-packages (from ultralytics) (2.0.1)\n",
      "Requirement already satisfied: sentry-sdk in /home/pi/.local/lib/python3.10/site-packages (from ultralytics) (1.24.0)\n",
      "Requirement already satisfied: scipy>=1.4.1 in /usr/lib/python3/dist-packages (from ultralytics) (1.8.0)\n",
      "Requirement already satisfied: seaborn>=0.11.0 in /home/pi/.local/lib/python3.10/site-packages (from ultralytics) (0.12.2)\n",
      "Requirement already satisfied: psutil in /usr/lib/python3/dist-packages (from ultralytics) (5.9.0)\n",
      "Requirement already satisfied: matplotlib>=3.2.2 in /usr/lib/python3/dist-packages (from ultralytics) (3.5.1)\n",
      "Requirement already satisfied: requests>=2.23.0 in /usr/lib/python3/dist-packages (from ultralytics) (2.25.1)\n",
      "Requirement already satisfied: torch>=1.7.0 in /home/pi/.local/lib/python3.10/site-packages (from ultralytics) (2.0.1)\n",
      "Requirement already satisfied: numpy>=1.21.2 in /usr/lib/python3/dist-packages (from opencv-python>=4.6.0->ultralytics) (1.21.5)\n",
      "Requirement already satisfied: tzdata>=2022.1 in /home/pi/.local/lib/python3.10/site-packages (from pandas>=1.1.4->ultralytics) (2023.3)\n",
      "Requirement already satisfied: python-dateutil>=2.8.2 in /home/pi/.local/lib/python3.10/site-packages (from pandas>=1.1.4->ultralytics) (2.8.2)\n",
      "Requirement already satisfied: pytz>=2020.1 in /usr/lib/python3/dist-packages (from pandas>=1.1.4->ultralytics) (2022.1)\n",
      "Requirement already satisfied: sympy in /usr/lib/python3/dist-packages (from torch>=1.7.0->ultralytics) (1.9)\n",
      "Requirement already satisfied: nvidia-nvtx-cu11==11.7.91 in /home/pi/.local/lib/python3.10/site-packages (from torch>=1.7.0->ultralytics) (11.7.91)\n",
      "Requirement already satisfied: nvidia-cuda-nvrtc-cu11==11.7.99 in /home/pi/.local/lib/python3.10/site-packages (from torch>=1.7.0->ultralytics) (11.7.99)\n",
      "Requirement already satisfied: nvidia-cuda-cupti-cu11==11.7.101 in /home/pi/.local/lib/python3.10/site-packages (from torch>=1.7.0->ultralytics) (11.7.101)\n",
      "Requirement already satisfied: nvidia-cublas-cu11==11.10.3.66 in /home/pi/.local/lib/python3.10/site-packages (from torch>=1.7.0->ultralytics) (11.10.3.66)\n",
      "Requirement already satisfied: networkx in /home/pi/.local/lib/python3.10/site-packages (from torch>=1.7.0->ultralytics) (3.1)\n",
      "Requirement already satisfied: triton==2.0.0 in /home/pi/.local/lib/python3.10/site-packages (from torch>=1.7.0->ultralytics) (2.0.0)\n",
      "Requirement already satisfied: nvidia-cusolver-cu11==11.4.0.1 in /home/pi/.local/lib/python3.10/site-packages (from torch>=1.7.0->ultralytics) (11.4.0.1)\n",
      "Requirement already satisfied: nvidia-cusparse-cu11==11.7.4.91 in /home/pi/.local/lib/python3.10/site-packages (from torch>=1.7.0->ultralytics) (11.7.4.91)\n",
      "Requirement already satisfied: jinja2 in /usr/lib/python3/dist-packages (from torch>=1.7.0->ultralytics) (3.0.3)\n",
      "Requirement already satisfied: typing-extensions in /home/pi/.local/lib/python3.10/site-packages (from torch>=1.7.0->ultralytics) (4.6.2)\n",
      "Requirement already satisfied: nvidia-curand-cu11==10.2.10.91 in /home/pi/.local/lib/python3.10/site-packages (from torch>=1.7.0->ultralytics) (10.2.10.91)\n",
      "Requirement already satisfied: nvidia-cudnn-cu11==8.5.0.96 in /home/pi/.local/lib/python3.10/site-packages (from torch>=1.7.0->ultralytics) (8.5.0.96)\n",
      "Requirement already satisfied: filelock in /home/pi/.local/lib/python3.10/site-packages (from torch>=1.7.0->ultralytics) (3.12.0)\n",
      "Requirement already satisfied: nvidia-nccl-cu11==2.14.3 in /home/pi/.local/lib/python3.10/site-packages (from torch>=1.7.0->ultralytics) (2.14.3)\n",
      "Requirement already satisfied: nvidia-cuda-runtime-cu11==11.7.99 in /home/pi/.local/lib/python3.10/site-packages (from torch>=1.7.0->ultralytics) (11.7.99)\n",
      "Requirement already satisfied: nvidia-cufft-cu11==10.9.0.58 in /home/pi/.local/lib/python3.10/site-packages (from torch>=1.7.0->ultralytics) (10.9.0.58)\n",
      "Requirement already satisfied: wheel in /usr/lib/python3/dist-packages (from nvidia-cublas-cu11==11.10.3.66->torch>=1.7.0->ultralytics) (0.37.1)\n",
      "Requirement already satisfied: setuptools in /usr/lib/python3/dist-packages (from nvidia-cublas-cu11==11.10.3.66->torch>=1.7.0->ultralytics) (59.6.0)\n",
      "Requirement already satisfied: cmake in /home/pi/.local/lib/python3.10/site-packages (from triton==2.0.0->torch>=1.7.0->ultralytics) (3.26.3)\n",
      "Requirement already satisfied: lit in /home/pi/.local/lib/python3.10/site-packages (from triton==2.0.0->torch>=1.7.0->ultralytics) (16.0.5)\n",
      "Requirement already satisfied: urllib3<2.0.0 in /home/pi/.local/lib/python3.10/site-packages (from sentry-sdk->ultralytics) (1.26.16)\n",
      "Requirement already satisfied: certifi in /home/pi/.local/lib/python3.10/site-packages (from sentry-sdk->ultralytics) (2022.12.7)\n",
      "Requirement already satisfied: six>=1.5 in /usr/lib/python3/dist-packages (from python-dateutil>=2.8.2->pandas>=1.1.4->ultralytics) (1.16.0)\n"
     ]
    }
   ],
   "source": [
    "# Instalando YOLOv8\n",
    "!pip install ultralytics  "
   ]
  },
  {
   "cell_type": "code",
   "execution_count": 2,
   "metadata": {},
   "outputs": [
    {
     "name": "stdout",
     "output_type": "stream",
     "text": [
      "Defaulting to user installation because normal site-packages is not writeable\n",
      "Requirement already satisfied: roboflow in /home/pi/.local/lib/python3.10/site-packages (1.0.9)\n",
      "Requirement already satisfied: wget in /home/pi/.local/lib/python3.10/site-packages (from roboflow) (3.2)\n",
      "Requirement already satisfied: six in /usr/lib/python3/dist-packages (from roboflow) (1.16.0)\n",
      "Requirement already satisfied: urllib3>=1.26.6 in /home/pi/.local/lib/python3.10/site-packages (from roboflow) (1.26.16)\n",
      "Requirement already satisfied: Pillow>=7.1.2 in /usr/lib/python3/dist-packages (from roboflow) (9.0.1)\n",
      "Requirement already satisfied: numpy>=1.18.5 in /usr/lib/python3/dist-packages (from roboflow) (1.21.5)\n",
      "Requirement already satisfied: certifi==2022.12.7 in /home/pi/.local/lib/python3.10/site-packages (from roboflow) (2022.12.7)\n",
      "Requirement already satisfied: chardet==4.0.0 in /usr/lib/python3/dist-packages (from roboflow) (4.0.0)\n",
      "Requirement already satisfied: opencv-python>=4.1.2 in /home/pi/.local/lib/python3.10/site-packages (from roboflow) (4.7.0.72)\n",
      "Requirement already satisfied: cycler==0.10.0 in /home/pi/.local/lib/python3.10/site-packages (from roboflow) (0.10.0)\n",
      "Requirement already satisfied: idna==2.10 in /home/pi/.local/lib/python3.10/site-packages (from roboflow) (2.10)\n",
      "Requirement already satisfied: python-dateutil in /home/pi/.local/lib/python3.10/site-packages (from roboflow) (2.8.2)\n",
      "Requirement already satisfied: tqdm>=4.41.0 in /home/pi/.local/lib/python3.10/site-packages (from roboflow) (4.65.0)\n",
      "Requirement already satisfied: python-dotenv in /home/pi/.local/lib/python3.10/site-packages (from roboflow) (1.0.0)\n",
      "Requirement already satisfied: kiwisolver>=1.3.1 in /usr/lib/python3/dist-packages (from roboflow) (1.3.2)\n",
      "Requirement already satisfied: matplotlib in /usr/lib/python3/dist-packages (from roboflow) (3.5.1)\n",
      "Requirement already satisfied: requests-toolbelt in /usr/lib/python3/dist-packages (from roboflow) (0.9.1)\n",
      "Requirement already satisfied: requests in /usr/lib/python3/dist-packages (from roboflow) (2.25.1)\n",
      "Requirement already satisfied: pyparsing==2.4.7 in /usr/lib/python3/dist-packages (from roboflow) (2.4.7)\n",
      "Requirement already satisfied: PyYAML>=5.3.1 in /usr/lib/python3/dist-packages (from roboflow) (5.4.1)\n"
     ]
    }
   ],
   "source": [
    "# Importando os dados de https://universe.roboflow.com/university-bswxt/crack-bphdr/dataset/2\n",
    "!pip install roboflow"
   ]
  },
  {
   "cell_type": "code",
   "execution_count": 3,
   "metadata": {},
   "outputs": [],
   "source": [
    "YOUR_API_KEY =  \"YOUR_API_KEY\" # Coloque sua chave de API aqui, que pode ser encontrada em https://app.roboflow.com/account/api-key"
   ]
  },
  {
   "cell_type": "code",
   "execution_count": 4,
   "metadata": {},
   "outputs": [
    {
     "name": "stdout",
     "output_type": "stream",
     "text": [
      "loading Roboflow workspace...\n",
      "loading Roboflow project...\n",
      "Dependency ultralytics<=8.0.20 is required but found version=8.0.109, to fix: `pip install ultralytics<=8.0.20`\n",
      "Downloading Dataset Version Zip in crack-2 to yolov8: 100% [142154958 / 142154958] bytes\n"
     ]
    },
    {
     "name": "stderr",
     "output_type": "stream",
     "text": [
      "Extracting Dataset Version Zip to crack-2 in yolov8:: 100%|██████████| 8070/8070 [00:00<00:00, 9159.94it/s] \n"
     ]
    }
   ],
   "source": [
    "from roboflow import Roboflow\n",
    "\n",
    "rf = Roboflow(api_key=YOUR_API_KEY)\n",
    "project = rf.workspace(\"university-bswxt\").project(\"crack-bphdr\")\n",
    "dataset = project.version(2).download(\"yolov8\")\n",
    "\n",
    "# Após baixar os dados, lembre de mudar em /content/crack-2/data.yaml os paths de 'test', 'train', 'val'"
   ]
  },
  {
   "cell_type": "code",
   "execution_count": 8,
   "metadata": {},
   "outputs": [
    {
     "name": "stdout",
     "output_type": "stream",
     "text": [
      "New https://pypi.org/project/ultralytics/8.0.112 available 😃 Update with 'pip install -U ultralytics'\n",
      "Ultralytics YOLOv8.0.109 🚀 Python-3.10.6 torch-2.0.1+cu117 CPU\n",
      "\u001b[34m\u001b[1myolo/engine/trainer: \u001b[0mtask=detect, mode=train, model=yolov8n.pt, data=/home/pi/modulo_6/git_modulo_6/Questoes-Trabalhos-Inteli-M6-Luiz-Borges/ponderada3/crack-2/data.yaml, epochs=10, patience=50, batch=16, imgsz=640, save=True, save_period=-1, cache=False, device=None, workers=8, project=None, name=None, exist_ok=False, pretrained=False, optimizer=SGD, verbose=True, seed=0, deterministic=True, single_cls=False, rect=False, cos_lr=False, close_mosaic=0, resume=False, amp=True, overlap_mask=True, mask_ratio=4, dropout=0.0, val=True, split=val, save_json=False, save_hybrid=False, conf=None, iou=0.7, max_det=300, half=False, dnn=False, plots=True, source=None, show=False, save_txt=False, save_conf=False, save_crop=False, show_labels=True, show_conf=True, vid_stride=1, line_width=None, visualize=False, augment=False, agnostic_nms=False, classes=None, retina_masks=False, boxes=True, format=torchscript, keras=False, optimize=False, int8=False, dynamic=False, simplify=False, opset=None, workspace=4, nms=False, lr0=0.01, lrf=0.01, momentum=0.937, weight_decay=0.0005, warmup_epochs=3.0, warmup_momentum=0.8, warmup_bias_lr=0.1, box=7.5, cls=0.5, dfl=1.5, pose=12.0, kobj=1.0, label_smoothing=0.0, nbs=64, hsv_h=0.015, hsv_s=0.7, hsv_v=0.4, degrees=0.0, translate=0.1, scale=0.5, shear=0.0, perspective=0.0, flipud=0.0, fliplr=0.5, mosaic=1.0, mixup=0.0, copy_paste=0.0, cfg=None, v5loader=False, tracker=botsort.yaml, save_dir=runs/detect/train3\n",
      "Downloading https://ultralytics.com/assets/Arial.ttf to /home/pi/.config/Ultralytics/Arial.ttf...\n",
      "100%|████████████████████████████████████████| 755k/755k [00:00<00:00, 18.2MB/s]\n",
      "Overriding model.yaml nc=80 with nc=1\n",
      "\n",
      "                   from  n    params  module                                       arguments                     \n",
      "  0                  -1  1       464  ultralytics.nn.modules.conv.Conv             [3, 16, 3, 2]                 \n",
      "  1                  -1  1      4672  ultralytics.nn.modules.conv.Conv             [16, 32, 3, 2]                \n",
      "  2                  -1  1      7360  ultralytics.nn.modules.block.C2f             [32, 32, 1, True]             \n",
      "  3                  -1  1     18560  ultralytics.nn.modules.conv.Conv             [32, 64, 3, 2]                \n",
      "  4                  -1  2     49664  ultralytics.nn.modules.block.C2f             [64, 64, 2, True]             \n",
      "  5                  -1  1     73984  ultralytics.nn.modules.conv.Conv             [64, 128, 3, 2]               \n",
      "  6                  -1  2    197632  ultralytics.nn.modules.block.C2f             [128, 128, 2, True]           \n",
      "  7                  -1  1    295424  ultralytics.nn.modules.conv.Conv             [128, 256, 3, 2]              \n",
      "  8                  -1  1    460288  ultralytics.nn.modules.block.C2f             [256, 256, 1, True]           \n",
      "  9                  -1  1    164608  ultralytics.nn.modules.block.SPPF            [256, 256, 5]                 \n",
      " 10                  -1  1         0  torch.nn.modules.upsampling.Upsample         [None, 2, 'nearest']          \n",
      " 11             [-1, 6]  1         0  ultralytics.nn.modules.conv.Concat           [1]                           \n",
      " 12                  -1  1    148224  ultralytics.nn.modules.block.C2f             [384, 128, 1]                 \n",
      " 13                  -1  1         0  torch.nn.modules.upsampling.Upsample         [None, 2, 'nearest']          \n",
      " 14             [-1, 4]  1         0  ultralytics.nn.modules.conv.Concat           [1]                           \n",
      " 15                  -1  1     37248  ultralytics.nn.modules.block.C2f             [192, 64, 1]                  \n",
      " 16                  -1  1     36992  ultralytics.nn.modules.conv.Conv             [64, 64, 3, 2]                \n",
      " 17            [-1, 12]  1         0  ultralytics.nn.modules.conv.Concat           [1]                           \n",
      " 18                  -1  1    123648  ultralytics.nn.modules.block.C2f             [192, 128, 1]                 \n",
      " 19                  -1  1    147712  ultralytics.nn.modules.conv.Conv             [128, 128, 3, 2]              \n",
      " 20             [-1, 9]  1         0  ultralytics.nn.modules.conv.Concat           [1]                           \n",
      " 21                  -1  1    493056  ultralytics.nn.modules.block.C2f             [384, 256, 1]                 \n",
      " 22        [15, 18, 21]  1    751507  ultralytics.nn.modules.head.Detect           [1, [64, 128, 256]]           \n",
      "Model summary: 225 layers, 3011043 parameters, 3011027 gradients\n",
      "\n",
      "Transferred 319/355 items from pretrained weights\n",
      "\u001b[34m\u001b[1moptimizer:\u001b[0m SGD(lr=0.01) with parameter groups 57 weight(decay=0.0), 64 weight(decay=0.0005), 63 bias\n",
      "\u001b[34m\u001b[1mtrain: \u001b[0mScanning /home/pi/modulo_6/git_modulo_6/Questoes-Trabalhos-Inteli-M6-Luiz\u001b[0m\n",
      "\u001b[34m\u001b[1mtrain: \u001b[0mNew cache created: /home/pi/modulo_6/git_modulo_6/Questoes-Trabalhos-Inteli-M6-Luiz-Borges/ponderada3/crack-2/train/labels.cache\n",
      "\u001b[34m\u001b[1mval: \u001b[0mScanning /home/pi/modulo_6/git_modulo_6/Questoes-Trabalhos-Inteli-M6-Luiz-B\u001b[0m\n",
      "\u001b[34m\u001b[1mval: \u001b[0mNew cache created: /home/pi/modulo_6/git_modulo_6/Questoes-Trabalhos-Inteli-M6-Luiz-Borges/ponderada3/crack-2/valid/labels.cache\n",
      "Plotting labels to runs/detect/train3/labels.jpg... \n",
      "Image sizes 640 train, 640 val\n",
      "Using 0 dataloader workers\n",
      "Logging results to \u001b[1mruns/detect/train3\u001b[0m\n",
      "Starting training for 10 epochs...\n",
      "\n",
      "      Epoch    GPU_mem   box_loss   cls_loss   dfl_loss  Instances       Size\n",
      "       1/10         0G      1.412      2.722      1.389         42        640:  ^C\n",
      "       1/10         0G      1.412      2.722      1.389         42        640:  \n",
      "Traceback (most recent call last):\n",
      "  File \"/home/pi/.local/bin/yolo\", line 8, in <module>\n",
      "    sys.exit(entrypoint())\n",
      "  File \"/home/pi/.local/lib/python3.10/site-packages/ultralytics/yolo/cfg/__init__.py\", line 397, in entrypoint\n",
      "    getattr(model, mode)(**overrides)  # default args from model\n",
      "  File \"/home/pi/.local/lib/python3.10/site-packages/ultralytics/yolo/engine/model.py\", line 371, in train\n",
      "    self.trainer.train()\n",
      "  File \"/home/pi/.local/lib/python3.10/site-packages/ultralytics/yolo/engine/trainer.py\", line 192, in train\n",
      "    self._do_train(world_size)\n",
      "  File \"/home/pi/.local/lib/python3.10/site-packages/ultralytics/yolo/engine/trainer.py\", line 340, in _do_train\n",
      "    self.optimizer_step()\n",
      "  File \"/home/pi/.local/lib/python3.10/site-packages/ultralytics/yolo/engine/trainer.py\", line 463, in optimizer_step\n",
      "    self.ema.update(self.model)\n",
      "KeyboardInterrupt\n"
     ]
    }
   ],
   "source": [
    "# Treinando o modelo\n",
    "!yolo train data=/home/pi/modulo_6/git_modulo_6/Questoes-Trabalhos-Inteli-M6-Luiz-Borges/ponderada3/crack-2/data.yaml model=yolov8n.pt epochs=10 lr0=0.01    "
   ]
  },
  {
   "attachments": {},
   "cell_type": "markdown",
   "metadata": {},
   "source": [
    "## 3. Resultados"
   ]
  },
  {
   "attachments": {},
   "cell_type": "markdown",
   "metadata": {},
   "source": [
    "Durante a o treinamento do modelo de reconhecimento de rachaduras empregado neste projeto, várias métricas de eficácia foram coletadas. Estas métricas tem o objetivo de mensurar a habilidade do modelo treinado em reconhecer padrões de rachaduras em imagens que não participaram de seu conjunto de treinamento, com o objetivo de não enviesar sua avaliação. Abaixo, a representação gráfica dessas métricas, bem como alguns exemplos de imagens de rachaduras que foram identificadas, com seus respectivos níveis de confiança de identificação, serão exibidas. \n",
    "\n",
    "Abaixo, encontra-se um exemplo de imagens do conjunto de teste tendo suas rachaduras reconhecidas pelo modelo, e seus respectivos níveis de confiança de classificação representados na região de interesse traçada.\n",
    "\n",
    "<p align=\"center\">\n",
    "<img src=\"../ponderada3/resultados_treinamento_yolov8/predicoes_yolov8_rachaduras.png\" width=70%> \n",
    "</p>\n",
    "\n",
    "Tais testes foram obtidos por meio da separação randômica de 80% das imagens do banco de imagens de rachaduras para o treinamento e 20% para o teste do modelo. Portanto, considerando as 4.100 imagens do banco de imagens de rachaduras, as avaliações discutidas abaixo são com base no uso do modelo treinado com 3.280 imagens de rachaduras aplicados para o reconhecimento de 820 imagens previamente categorizadas como contendo uma rachadura.\n",
    "\n",
    "Os resultados abaico podem não ser os mesmos que os presentes nas pastas gerados durante o último treinamento pois variáveis aleatórias são utilizadas durante o treinamento, como por exemplo na escolha dos dados dos conjuntos de treino e teste. Visando eliminar esta variável, os dados do último treinamento foram registrados na pasta /resultados_treinamento_yolov8."
   ]
  },
  {
   "attachments": {},
   "cell_type": "markdown",
   "metadata": {},
   "source": [
    "### 3.1. Acurácia\n",
    "\n",
    "A matriz de confusão normalizada abaixo representa uma visão geral da acurácia do modelo treinado para a tarefa de detecção de rachaduras. Ela mostra a parcela de verdadeiros positivos (rachaduras que foram corretamente identificadas como tais), verdadeiros negativos (fotos onde não havia rachaduras e, portanto, nenhuma rachadura foi identificada), falsos positivos (imagens que não continham rachaduras mas que o modelo identificou como imagem que continha uma rachadura) e, por fim, falsos negativos (imagens que continham rachaduras que não foram identificadas como tal pelo modelo). A matriz de confusão normalizada foi escolhida pois permite analisar proporção de cada tipo de possibilidade de predição relativa ao número de predições possíveis. \n",
    "\n",
    "<p align=\"center\">\n",
    "<img src=\"../ponderada3/resultados_treinamento_yolov8/matriz_confusao_normalizada.png\" width=70%>\n",
    "</p>\n",
    "\n",
    "Com a análise da matriz de confusão gerada durante o treinamento do modelo apresentado, é possível notar que este foi capaz de identificar imagens com rachaduras com 80% de acurácia. Ou seja, das 820 imagens com categorização conhecida como contendo uma rachadura, 656 foram identificadas corretamente pelo modelo como contendo uma rachadura e 164 imagens contendo uma rachadura não foram identificadas pelo modelo."
   ]
  },
  {
   "attachments": {},
   "cell_type": "markdown",
   "metadata": {},
   "source": [
    "### 3.2. Curva precisão-confiabilidade\n",
    "\n",
    "Na curva de precisão-confiabilidade representada abaixo, temos a demonstração que um valor maior de precisão implica em uma taxa menor de falsos positivos, isto é, imagens que não contém rachaduras mas que são classificadas como tal. Desta forma, o modelo teria uma menor chance de identificar rachaduras em áreas que não as apresentam. \n",
    "\n",
    "<p align=\"center\">\n",
    "<img src=\"../ponderada3/resultados_treinamento_yolov8/precisao_confiabilidade.png\" width=70%>\n",
    "</p>\n",
    "\n",
    "No contexto deste projeto, o limitar entre a precisão e confiabilidade pode ser escolhido admitindo a premissa de que é mais maléfico deixar de identificar uma rachadura como tal do que não identificar uma rachadura. "
   ]
  },
  {
   "attachments": {},
   "cell_type": "markdown",
   "metadata": {},
   "source": [
    "### 3.3. Curva precisão-sensibilidade \n",
    "\n",
    "Esta curva demonstra como o aumento do limiar de detecção afeta a precisão e a sensibilidade simultaneamente. Uma maior taxa de precisão indicaria uma taxa menor de alarmes falsos, enquanto uma maior sensibilidade, implica no aumento do sucesso do modelo na identificação de imagens que contenham rachaduras. \n",
    "\n",
    "<p align=\"center\">\n",
    "<img src=\"../ponderada3/resultados_treinamento_yolov8/precisao_sensibilidade.png\" width=70%>\n",
    "</p>\n",
    "\n",
    "Como discutido na curva de precisão e confiabilidade, o limitar entre a precisão e sensibilidade pode ser escolhido admitindo a premissa de que é mais maléfico deixar de identificar uma rachadura como tal do que não identificar uma rachadura. "
   ]
  },
  {
   "attachments": {},
   "cell_type": "markdown",
   "metadata": {},
   "source": [
    "### 3.4. Curva sensibilidade-confiança\n",
    "\n",
    "Também conhecida como curva de recall ou revocação, a curva abaixo estabelece uma relação entre o limiar para a detecção de rachaduras e a confiabilidade, ou assertividade, que o modelo tem ao dizer que uma determinada imagem contem uma rachadura. Desta forma, é possível observar a variação na confiabilidade do modelo na detecção das rachaduras de acordo com diferentes limiares. Um valor de confiabilidade maior implicará em uma taxa reduzida de falsos negativos. Nesta configuração, o modelo treinado dificilmente deixará de classificar uma imagem como contendo uma rachadura. Por outro lado, uma sensibilidade muito grande pode aumentar a presença de falsos positivos.\n",
    "\n",
    "<p align=\"center\">\n",
    "<img src=\"../ponderada3/resultados_treinamento_yolov8/sensibilidade_confianca.png\" width=70%>\n",
    "</p>\n",
    "\n",
    "No caso da curva de sensibilidade para o modelo treinado, o limiar foi escolhido pelas próprias configurações do modelo. Este limitar se demostrou ser o do vértice presente na região entre 60 e 80% de sensibilidade e confiança."
   ]
  },
  {
   "attachments": {},
   "cell_type": "markdown",
   "metadata": {},
   "source": [
    "### 3.5 Curva F1-confiança\n",
    " \n",
    "Para a curva do Score F1, representa-se a variação do score F1 ao longo de vários limiares. O Score F1 é calculado levando em consideração a otimização entre a acurácia e a sensibilidade do modelo. A avaliação deste tipo de métrica é importante no cenário onde treinamos modelos que possuem classes desbalanceadas. Para oferecer uma métrica que considere a proporção das classes oferecidas, a Pontuação F1 combina a precisão e sensibilidade em uma média harmônica. Desta forma, a maximização desta métrica significa a maximização de ambas as métricas.\n",
    "\n",
    "<p align=\"center\">\n",
    "<img src=\"../ponderada3/resultados_treinamento_yolov8/f1_confianca.png\" width=70%>\n",
    "</p>\n",
    "\n",
    "Acima, está a representação da relação entre a Pontuação F1 e confiabilidade do modelo treinado."
   ]
  },
  {
   "attachments": {},
   "cell_type": "markdown",
   "metadata": {},
   "source": [
    "### 3.6. Aplicação do modelo em tempo real"
   ]
  },
  {
   "attachments": {},
   "cell_type": "markdown",
   "metadata": {},
   "source": [
    "Para testar as capacidades do modelo treinado de reconhecer rachaduras em suscetivos frames de vídeo sendo capturados por uma webcam, o método predict do modelo foi aplicado, inserindo como parâmetro a fonte de vídeo correspondente da webcam (0). "
   ]
  },
  {
   "cell_type": "code",
   "execution_count": null,
   "metadata": {},
   "outputs": [],
   "source": [
    "#Import the libraries\n",
    "from ultralytics import YOLO #import the YOLO model\n",
    "import cv2 #import opencv\n",
    "\n",
    "model = YOLO(\"../resultado_treinamento_yolov8/model.pt\") #load the model\n",
    "model.predict(source=\"0\", show = True, conf=0.5) #predict only images with a confidence of 50% and show the image"
   ]
  },
  {
   "cell_type": "markdown",
   "metadata": {},
   "source": [
    "O resultado desta predição pode ser visto no vídeo abaixo:"
   ]
  },
  {
   "cell_type": "code",
   "execution_count": 6,
   "metadata": {},
   "outputs": [
    {
     "data": {
      "text/html": [
       "\n",
       "    <video alt=\"test\" controls>\n",
       "        <source src=\"./resultados_treinamento_yolov8/demonstracao_yolov8_rachaduras_reduced.mp4\" type=\"video/mp4\">\n",
       "    </video>\n"
      ],
      "text/plain": [
       "<IPython.core.display.HTML object>"
      ]
     },
     "execution_count": 6,
     "metadata": {},
     "output_type": "execute_result"
    }
   ],
   "source": [
    "from IPython.display import HTML\n",
    "\n",
    "HTML(\"\"\"\n",
    "    <video alt=\"test\" controls>\n",
    "        <source src=\"./resultados_treinamento_yolov8/demonstracao_yolov8_rachaduras_reduced.mp4\" type=\"video/mp4\">\n",
    "    </video>\n",
    "\"\"\")"
   ]
  },
  {
   "attachments": {},
   "cell_type": "markdown",
   "metadata": {},
   "source": [
    "## 4. Conclusão\n",
    "\n",
    "O modelo treinado foi capaz de identificar rachaduras em imagens com 80% de acurácia. A partir da análise das curvas de precisão-confiabilidade, precisão-sensibilidade, sensibilidade-confiança e F1-confiança, foi possível determinar o limiar de detecção do modelo treinado. Este limiar foi escolhido pelas próprias configurações do modelo, sendo o do vértice presente na região entre 60 e 80% de sensibilidade e confiança. Com a demonstração da aplicação do modelo em tempo real, foi possível observar que o modelo treinado é capaz de identificar rachaduras em imagens capturadas por uma webcam."
   ]
  }
 ],
 "metadata": {
  "kernelspec": {
   "display_name": "Python 3",
   "language": "python",
   "name": "python3"
  },
  "language_info": {
   "codemirror_mode": {
    "name": "ipython",
    "version": 3
   },
   "file_extension": ".py",
   "mimetype": "text/x-python",
   "name": "python",
   "nbconvert_exporter": "python",
   "pygments_lexer": "ipython3",
   "version": "3.10.6"
  },
  "orig_nbformat": 4
 },
 "nbformat": 4,
 "nbformat_minor": 2
}
